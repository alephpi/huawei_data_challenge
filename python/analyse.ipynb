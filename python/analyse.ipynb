{
 "cells": [
  {
   "cell_type": "code",
   "execution_count": 1,
   "metadata": {},
   "outputs": [],
   "source": [
    "import sys\n",
    "from data import InputData, OutputData, Config, WorkShop\n",
    "from typing import List"
   ]
  },
  {
   "cell_type": "code",
   "execution_count": 2,
   "metadata": {},
   "outputs": [],
   "source": [
    "def Max(a, b):\n",
    "    if a > b:\n",
    "        return a\n",
    "    else:\n",
    "        return b\n",
    "# Topological sort\n",
    "class Queue:\n",
    "    def __init__(self):\n",
    "        self.vec = []\n",
    "        self.headIndex = 0\n",
    "        self.tailIndex = 0\n",
    "        return\n",
    "\n",
    "    def Push(self, item):\n",
    "        self.vec.append(item)\n",
    "        self.tailIndex = self.tailIndex + 1\n",
    "        return\n",
    "\n",
    "    def IsEmpty(self):\n",
    "        return self.headIndex == self.tailIndex\n",
    "\n",
    "    def Pop(self):\n",
    "        if self.headIndex >= self.tailIndex:\n",
    "            print(\"[Err] Queue Pop\")\n",
    "            return \"Err\"\n",
    "        item = self.vec[self.headIndex]\n",
    "        self.headIndex = self.headIndex + 1\n",
    "        return item\n"
   ]
  },
  {
   "cell_type": "code",
   "execution_count": 3,
   "metadata": {},
   "outputs": [],
   "source": [
    "inputData = InputData.from_file('../sample/sample.in')"
   ]
  },
  {
   "cell_type": "code",
   "execution_count": 4,
   "metadata": {},
   "outputs": [],
   "source": [
    "workshops: List[WorkShop] = []\n",
    "for id in range(inputData.N):\n",
    "    workshops.append(WorkShop())\n"
   ]
  },
  {
   "cell_type": "code",
   "execution_count": 5,
   "metadata": {},
   "outputs": [
    {
     "data": {
      "text/plain": [
       "<data.WorkShop at 0x19f346ed700>"
      ]
     },
     "execution_count": 5,
     "metadata": {},
     "output_type": "execute_result"
    }
   ],
   "source": [
    "workshops[0]"
   ]
  },
  {
   "cell_type": "code",
   "execution_count": 7,
   "metadata": {},
   "outputs": [
    {
     "name": "stdout",
     "output_type": "stream",
     "text": [
      "0 0 2\n",
      "1 1 3\n"
     ]
    }
   ],
   "source": [
    "# Count the earliest and latest time that one workshop can enter\n",
    "for wid in range(inputData.M):\n",
    "    window = inputData.windows[wid]\n",
    "    workshop = workshops[window.workshopIndex]\n",
    "    minTi = wid\n",
    "    maxTi = inputData.L * inputData.M + wid\n",
    "    print(wid, minTi, maxTi)\n",
    "    if minTi < workshop.minTi:\n",
    "        workshop.minTi = minTi\n",
    "    if maxTi > workshop.maxTi:\n",
    "        workshop.maxTi = maxTi\n"
   ]
  },
  {
   "cell_type": "markdown",
   "metadata": {},
   "source": [
    "Probe workshop"
   ]
  },
  {
   "cell_type": "code",
   "execution_count": 8,
   "metadata": {},
   "outputs": [
    {
     "name": "stdout",
     "output_type": "stream",
     "text": [
      "minTi:0\tmaxTi3\tanyRidOfEngine[4294967295, 4294967295, 4294967295]\n",
      "\n",
      "minTi:4294967295\tmaxTi0\tanyRidOfEngine[4294967295, 4294967295, 4294967295]\n",
      "\n",
      "minTi:4294967295\tmaxTi0\tanyRidOfEngine[4294967295, 4294967295, 4294967295]\n",
      "\n",
      "minTi:4294967295\tmaxTi0\tanyRidOfEngine[4294967295, 4294967295, 4294967295]\n",
      "\n"
     ]
    }
   ],
   "source": [
    "for workshop in workshops:\n",
    "  print(workshop)"
   ]
  },
  {
   "cell_type": "code",
   "execution_count": 8,
   "metadata": {},
   "outputs": [
    {
     "data": {
      "text/plain": [
       "data.WorkShop"
      ]
     },
     "execution_count": 8,
     "metadata": {},
     "output_type": "execute_result"
    }
   ],
   "source": [
    "type(workshops[0])"
   ]
  },
  {
   "cell_type": "code",
   "execution_count": 9,
   "metadata": {},
   "outputs": [],
   "source": [
    "widOfTi = []\n",
    "for loopIndex in range(inputData.L + 1):\n",
    "    for wid in range(inputData.M):\n",
    "        widOfTi.append(wid)\n"
   ]
  },
  {
   "cell_type": "code",
   "execution_count": 10,
   "metadata": {},
   "outputs": [],
   "source": [
    "for wid in range(inputData.M, inputData.W):\n",
    "    window = inputData.windows[wid]\n",
    "    workshop = workshops[window.workshopIndex]\n",
    "    widOfTi.append(wid)\n",
    "    minTi = len(widOfTi) - 1\n",
    "    if minTi < workshop.minTi:\n",
    "        workshop.minTi = minTi\n",
    "    if window.canSelfLoop:\n",
    "        for loopIndex in range(inputData.L):\n",
    "            widOfTi.append(wid)\n",
    "    maxTi = len(widOfTi) - 1\n",
    "    if maxTi > workshop.maxTi:\n",
    "        workshop.maxTi = maxTi\n"
   ]
  },
  {
   "cell_type": "code",
   "execution_count": 11,
   "metadata": {},
   "outputs": [],
   "source": [
    "workshops.sort(key=lambda de: de.minTi)\n"
   ]
  },
  {
   "cell_type": "code",
   "execution_count": 12,
   "metadata": {},
   "outputs": [],
   "source": [
    "isDeviceInPipeline = [False] * inputData.D\n",
    "for eid in inputData.pipeline.edgeIndexs:\n",
    "    edge = inputData.edges[eid]\n",
    "    isDeviceInPipeline[edge.sendDevice] = True\n",
    "    isDeviceInPipeline[edge.recvDevice] = True\n"
   ]
  },
  {
   "cell_type": "code",
   "execution_count": 13,
   "metadata": {},
   "outputs": [],
   "source": [
    "# Make statistics of the workshop area where\n",
    "# Collect statistics on the workshop region that support a certain\n",
    "# type of equipment in the workshop.\n",
    "for rid in range(inputData.R):\n",
    "    region = inputData.regions[rid]\n",
    "    nid = region.workshopIndex\n",
    "    workshop = workshops[nid]\n",
    "    if region.energyType == 0:\n",
    "        workshop.anyRidOfEngine[0] = rid\n",
    "        workshop.anyRidOfEngine[1] = rid\n",
    "    elif region.energyType == 1:\n",
    "        workshop.anyRidOfEngine[0] = rid\n",
    "    elif region.energyType == 2:\n",
    "        workshop.anyRidOfEngine[1] = rid\n",
    "    elif region.energyType == 3:\n",
    "        workshop.anyRidOfEngine[2] = rid\n",
    "    elif region.energyType == 4:\n",
    "        workshop.anyRidOfEngine[2] = rid\n"
   ]
  },
  {
   "cell_type": "code",
   "execution_count": 14,
   "metadata": {},
   "outputs": [],
   "source": [
    "nextEdgeMgr = []\n",
    "prevEdgeMgr = []\n",
    "for did in range(inputData.D):\n",
    "    nextEdgeMgr.append([])\n",
    "    prevEdgeMgr.append([])\n",
    "\n",
    "for eid in range(inputData.E):\n",
    "    edge = inputData.edges[eid]\n",
    "    nextEdgeMgr[edge.sendDevice].append(eid)\n",
    "    prevEdgeMgr[edge.recvDevice].append(eid)\n"
   ]
  },
  {
   "cell_type": "code",
   "execution_count": 15,
   "metadata": {},
   "outputs": [],
   "source": [
    "queue = Queue()\n",
    "inCnt = [0] * inputData.D\n",
    "for did in range(inputData.D):\n",
    "    inCnt[did] = len(prevEdgeMgr[did])\n",
    "    if inCnt[did] == 0:\n",
    "        queue.Push(did)\n",
    "\n",
    "ridOfDid = [Config.MAX_U32] * inputData.D\n",
    "minTiOfDid = [0] * inputData.D\n",
    "\n",
    "pid = 0\n",
    "preTi = 0\n",
    "widOfPid = [Config.MAX_U32] * (inputData.pipeline.edgeNum + 1)\n",
    "\n",
    "while not queue.IsEmpty():\n",
    "    curDid = queue.Pop()\n",
    "    if isDeviceInPipeline[curDid]:\n",
    "        startTi = minTiOfDid[curDid]\n",
    "        engineType = inputData.devices[curDid].engineType\n",
    "        if pid != 0:\n",
    "            edge = inputData.edges[inputData.pipeline.edgeIndexs[pid - 1]]\n",
    "            startTi = max(startTi, preTi + (edge.type == 0))\n",
    "\n",
    "        for ti in range(startTi, len(widOfTi)):\n",
    "            wid = widOfTi[ti]\n",
    "            window = inputData.windows[wid]\n",
    "            if not window.enginesSupport[engineType]:\n",
    "                continue\n",
    "            workshop = workshops[window.workshopIndex]\n",
    "            rid = workshop.anyRidOfEngine[engineType]\n",
    "            if rid == Config.MAX_U32:\n",
    "                continue\n",
    "\n",
    "            ridOfDid[curDid] = rid\n",
    "            widOfPid[pid] = wid\n",
    "            pid = pid + 1\n",
    "            preTi = ti\n",
    "            break\n",
    "    else:\n",
    "        engineType = inputData.devices[curDid].engineType\n",
    "        for i in range(inputData.N):\n",
    "            workshop = workshops[i]\n",
    "            rid = workshop.anyRidOfEngine[engineType]\n",
    "            if rid == Config.MAX_U32:\n",
    "                continue\n",
    "            if workshop.maxTi >= minTiOfDid[curDid]:\n",
    "                ridOfDid[curDid] = rid\n",
    "                break\n",
    "    if ridOfDid[curDid] == Config.MAX_U32:\n",
    "        print(\"wrong in %d\" % curDid)\n",
    "        exit()\n",
    "    workshop = workshops[inputData.regions[ridOfDid[curDid]].workshopIndex]\n",
    "    for eid in nextEdgeMgr[curDid]:\n",
    "        edge = inputData.edges[eid]\n",
    "        curDid = edge.recvDevice\n",
    "        if edge.type == 0:\n",
    "            requestTi = workshop.minTi + 1\n",
    "        else:\n",
    "            requestTi = workshop.minTi\n",
    "        minTiOfDid[curDid] = Max(minTiOfDid[curDid], requestTi)\n",
    "        inCnt[curDid] = inCnt[curDid] - 1\n",
    "        if inCnt[curDid] == 0:\n",
    "            queue.Push(curDid)\n"
   ]
  },
  {
   "cell_type": "code",
   "execution_count": 16,
   "metadata": {},
   "outputs": [],
   "source": [
    "outputData = OutputData(\n",
    "    deviceNum=inputData.D,\n",
    "    regionIndexs=ridOfDid,\n",
    "    stepNum=inputData.pipeline.edgeNum + 1,\n",
    "    timeWindowIndexs=widOfPid,\n",
    ")\n"
   ]
  },
  {
   "cell_type": "code",
   "execution_count": 17,
   "metadata": {},
   "outputs": [
    {
     "name": "stdout",
     "output_type": "stream",
     "text": [
      "13\n",
      "1 2 1 4 1 5 1 1 4 7 1 5 5\n",
      "7\n",
      "0 1 0 0 1 3 4\n"
     ]
    }
   ],
   "source": [
    "\n",
    "outputData.print()\n"
   ]
  },
  {
   "cell_type": "code",
   "execution_count": null,
   "metadata": {},
   "outputs": [],
   "source": []
  },
  {
   "cell_type": "code",
   "execution_count": null,
   "metadata": {},
   "outputs": [],
   "source": []
  }
 ],
 "metadata": {
  "kernelspec": {
   "display_name": "Python 3.9.0 ('base')",
   "language": "python",
   "name": "python3"
  },
  "language_info": {
   "codemirror_mode": {
    "name": "ipython",
    "version": 3
   },
   "file_extension": ".py",
   "mimetype": "text/x-python",
   "name": "python",
   "nbconvert_exporter": "python",
   "pygments_lexer": "ipython3",
   "version": "3.9.0"
  },
  "orig_nbformat": 4,
  "vscode": {
   "interpreter": {
    "hash": "88279d2366fe020547cde40dd65aa0e3aa662a6ec1f3ca12d88834876c85e1a6"
   }
  }
 },
 "nbformat": 4,
 "nbformat_minor": 2
}
